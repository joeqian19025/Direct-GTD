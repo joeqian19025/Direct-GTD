{
 "cells": [
  {
   "cell_type": "code",
   "execution_count": 24,
   "metadata": {},
   "outputs": [],
   "source": [
    "import pandas as pd\n",
    "import matplotlib\n",
    "matplotlib.use('agg')\n",
    "import matplotlib.pyplot as plt"
   ]
  },
  {
   "cell_type": "code",
   "execution_count": 35,
   "metadata": {},
   "outputs": [],
   "source": [
    "logs = pd.read_csv('./logs_approximated_seed[0].csv', index_col=0)"
   ]
  },
  {
   "cell_type": "code",
   "execution_count": 36,
   "metadata": {},
   "outputs": [
    {
     "data": {
      "text/html": [
       "<div>\n",
       "<style scoped>\n",
       "    .dataframe tbody tr th:only-of-type {\n",
       "        vertical-align: middle;\n",
       "    }\n",
       "\n",
       "    .dataframe tbody tr th {\n",
       "        vertical-align: top;\n",
       "    }\n",
       "\n",
       "    .dataframe thead th {\n",
       "        text-align: right;\n",
       "    }\n",
       "</style>\n",
       "<table border=\"1\" class=\"dataframe\">\n",
       "  <thead>\n",
       "    <tr style=\"text-align: right;\">\n",
       "      <th></th>\n",
       "      <th>TD_RMSVE</th>\n",
       "      <th>TDC_RMSVE</th>\n",
       "      <th>DGTD_RMSVE</th>\n",
       "      <th>TD_RMSPBE</th>\n",
       "      <th>TDC_RMSPBE</th>\n",
       "      <th>DGTD_RMSPBE</th>\n",
       "    </tr>\n",
       "  </thead>\n",
       "  <tbody>\n",
       "    <tr>\n",
       "      <th>995</th>\n",
       "      <td>774.169009</td>\n",
       "      <td>1.939036</td>\n",
       "      <td>5738.670335</td>\n",
       "      <td>139.295022</td>\n",
       "      <td>0.033959</td>\n",
       "      <td>6172.54231</td>\n",
       "    </tr>\n",
       "    <tr>\n",
       "      <th>996</th>\n",
       "      <td>774.169009</td>\n",
       "      <td>1.939036</td>\n",
       "      <td>5738.670335</td>\n",
       "      <td>139.295022</td>\n",
       "      <td>0.033959</td>\n",
       "      <td>6172.54231</td>\n",
       "    </tr>\n",
       "    <tr>\n",
       "      <th>997</th>\n",
       "      <td>774.169009</td>\n",
       "      <td>1.939036</td>\n",
       "      <td>5738.670335</td>\n",
       "      <td>139.295022</td>\n",
       "      <td>0.033959</td>\n",
       "      <td>6172.54231</td>\n",
       "    </tr>\n",
       "    <tr>\n",
       "      <th>998</th>\n",
       "      <td>774.169009</td>\n",
       "      <td>1.939036</td>\n",
       "      <td>5738.670335</td>\n",
       "      <td>139.295022</td>\n",
       "      <td>0.033959</td>\n",
       "      <td>6172.54231</td>\n",
       "    </tr>\n",
       "    <tr>\n",
       "      <th>999</th>\n",
       "      <td>774.169009</td>\n",
       "      <td>1.939036</td>\n",
       "      <td>5738.670335</td>\n",
       "      <td>139.295022</td>\n",
       "      <td>0.033959</td>\n",
       "      <td>6172.54231</td>\n",
       "    </tr>\n",
       "  </tbody>\n",
       "</table>\n",
       "</div>"
      ],
      "text/plain": [
       "       TD_RMSVE  TDC_RMSVE   DGTD_RMSVE   TD_RMSPBE  TDC_RMSPBE  DGTD_RMSPBE\n",
       "995  774.169009   1.939036  5738.670335  139.295022    0.033959   6172.54231\n",
       "996  774.169009   1.939036  5738.670335  139.295022    0.033959   6172.54231\n",
       "997  774.169009   1.939036  5738.670335  139.295022    0.033959   6172.54231\n",
       "998  774.169009   1.939036  5738.670335  139.295022    0.033959   6172.54231\n",
       "999  774.169009   1.939036  5738.670335  139.295022    0.033959   6172.54231"
      ]
     },
     "execution_count": 36,
     "metadata": {},
     "output_type": "execute_result"
    }
   ],
   "source": [
    "logs.tail()"
   ]
  },
  {
   "cell_type": "code",
   "execution_count": 31,
   "metadata": {},
   "outputs": [
    {
     "data": {
      "text/plain": [
       "<matplotlib.legend.Legend at 0x7fcb58a8f4c0>"
      ]
     },
     "execution_count": 31,
     "metadata": {},
     "output_type": "execute_result"
    },
    {
     "data": {
      "image/png": "[encoded data removed]",
      "text/plain": [
       "<Figure size 432x288 with 1 Axes>"
      ]
     },
     "metadata": {
      "needs_background": "light"
     },
     "output_type": "display_data"
    }
   ],
   "source": [
    "%matplotlib inline\n",
    "plt.plot(logs['TD_RMSVE'], label='TD')\n",
    "plt.plot(logs['TDC_RMSVE'], label='TDC')\n",
    "plt.plot(logs['DGTD_RMSVE'], label='DGTD')\n",
    "plt.title('RMSVE')\n",
    "plt.legend()"
   ]
  },
  {
   "cell_type": "code",
   "execution_count": 33,
   "metadata": {},
   "outputs": [
    {
     "data": {
      "text/plain": [
       "<matplotlib.legend.Legend at 0x7fcb58d97100>"
      ]
     },
     "execution_count": 33,
     "metadata": {},
     "output_type": "execute_result"
    },
    {
     "data": {
      "image/png": "[encoded data removed]",
      "text/plain": [
       "<Figure size 432x288 with 1 Axes>"
      ]
     },
     "metadata": {
      "needs_background": "light"
     },
     "output_type": "display_data"
    }
   ],
   "source": [
    "%matplotlib inline\n",
    "plt.plot(logs['TD_RMSPBE'], label='TD')\n",
    "plt.plot(logs['TDC_RMSPBE'], label='TDC')\n",
    "plt.plot(logs['DGTD_RMSPBE'], label='DGTD')\n",
    "plt.title('RMSPBE')\n",
    "plt.legend()"
   ]
  }
 ],
 "metadata": {
  "kernelspec": {
   "display_name": "base",
   "language": "python",
   "name": "python3"
  },
  "language_info": {
   "codemirror_mode": {
    "name": "ipython",
    "version": 3
   },
   "file_extension": ".py",
   "mimetype": "text/x-python",
   "name": "python",
   "nbconvert_exporter": "python",
   "pygments_lexer": "ipython3",
   "version": "3.8.8"
  },
  "orig_nbformat": 4,
  "vscode": {
   "interpreter": {
    "hash": "5676a69e9b9cac3fc4c475453de0597e28ebfc749380e5da35d78f99e98f87b1"
   }
  }
 },
 "nbformat": 4,
 "nbformat_minor": 2
}
